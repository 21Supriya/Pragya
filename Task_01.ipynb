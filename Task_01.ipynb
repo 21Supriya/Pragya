{
  "nbformat": 4,
  "nbformat_minor": 0,
  "metadata": {
    "colab": {
      "provenance": []
    },
    "kernelspec": {
      "name": "python3",
      "display_name": "Python 3"
    },
    "language_info": {
      "name": "python"
    }
  },
  "cells": [
    {
      "cell_type": "markdown",
      "source": [
        "**Imorting the Liabries**"
      ],
      "metadata": {
        "id": "OrXrMgIn_c3K"
      }
    },
    {
      "cell_type": "code",
      "source": [
        "import requests\n",
        "import pandas as pd"
      ],
      "metadata": {
        "id": "TVG0fLIi3XKW"
      },
      "execution_count": 1,
      "outputs": []
    },
    {
      "cell_type": "markdown",
      "source": [
        "**Defining the API**"
      ],
      "metadata": {
        "id": "OGyGikIs_iVo"
      }
    },
    {
      "cell_type": "code",
      "source": [
        "# Define the API endpoint\n",
        "api_url = \"https://data.binance.com/api/v3/ticker/24hr\"\n"
      ],
      "metadata": {
        "id": "mPB4SJy_7OFD"
      },
      "execution_count": 2,
      "outputs": []
    },
    {
      "cell_type": "markdown",
      "source": [
        "**Requesting the web application through the url**"
      ],
      "metadata": {
        "id": "m0so4HmU_20Y"
      }
    },
    {
      "cell_type": "code",
      "source": [
        "#Make a GET request to the API\n",
        "response = requests.get(api_url)"
      ],
      "metadata": {
        "id": "RcKyZK5q7t4-"
      },
      "execution_count": 3,
      "outputs": []
    },
    {
      "cell_type": "markdown",
      "source": [
        "**Extrating the CSV file from the API**"
      ],
      "metadata": {
        "id": "EDp_OQxDBE8E"
      }
    },
    {
      "cell_type": "code",
      "source": [
        "# Check if the request was successful (status code 200)\n",
        "if response.status_code==200:\n",
        "  #Parse the JSON data from the response\n",
        "  data = response.json()\n",
        "  # Create a Pandas DataFrame from the JSON data\n",
        "  df = pd.DataFrame(data)\n",
        "  # Save the DataFrame to a CSV file\n",
        "  df.to_csv('binance_data.csv',index=False)\n",
        "  # Display the DataFrame\n",
        "  print(df)\n",
        "else:\n",
        "  print(\"Failed to retrieve data from the API. Status code:\", response.status_code)"
      ],
      "metadata": {
        "colab": {
          "base_uri": "https://localhost:8080/"
        },
        "id": "7kE7BsZS8DCT",
        "outputId": "46b41303-ea88-4848-8d94-0c4e44fd21dd"
      },
      "execution_count": 4,
      "outputs": [
        {
          "output_type": "stream",
          "name": "stdout",
          "text": [
            "         symbol  priceChange priceChangePercent weightedAvgPrice  \\\n",
            "0        ETHBTC   0.00017000              0.281       0.06061681   \n",
            "1        LTCBTC  -0.00002700             -1.100       0.00243798   \n",
            "2        BNBBTC   0.00007600              0.945       0.00809714   \n",
            "3        NEOBTC  -0.00000290             -1.051       0.00027423   \n",
            "4       QTUMETH  -0.00002400             -1.763       0.00134806   \n",
            "...         ...          ...                ...              ...   \n",
            "2297    ARKUSDT   0.00220000              0.416       0.54944038   \n",
            "2298  CREAMUSDT  -2.39000000            -11.268      19.54127822   \n",
            "2299    GFTUSDT   0.00215000              9.912       0.02195939   \n",
            "2300     IQUSDT   0.00009000              1.837       0.00489957   \n",
            "2301    USDTVAI  -0.00100000             -0.098       1.01651113   \n",
            "\n",
            "     prevClosePrice    lastPrice         lastQty     bidPrice  \\\n",
            "0        0.06048000   0.06066000      0.25250000   0.06065000   \n",
            "1        0.00245400   0.00242700      5.15700000   0.00242700   \n",
            "2        0.00803900   0.00811500      0.29000000   0.00811500   \n",
            "3        0.00027590   0.00027300    501.13000000   0.00027310   \n",
            "4        0.00136200   0.00133700      8.20000000   0.00133700   \n",
            "...             ...          ...             ...          ...   \n",
            "2297     0.52920000   0.53150000    331.00000000   0.53090000   \n",
            "2298    21.21000000  18.82000000     11.83900000  18.78000000   \n",
            "2299     0.02172000   0.02384000    884.00000000   0.02381000   \n",
            "2300     0.00491000   0.00499000  70651.00000000   0.00499000   \n",
            "2301     1.01300000   1.01500000     22.50000000   1.01200000   \n",
            "\n",
            "               bidQty     askPrice  ...    openPrice    highPrice  \\\n",
            "0         50.51500000   0.06066000  ...   0.06049000   0.06084000   \n",
            "1         11.91700000   0.00242800  ...   0.00245400   0.00245600   \n",
            "2         10.72300000   0.00811600  ...   0.00803900   0.00816800   \n",
            "3         33.96000000   0.00027340  ...   0.00027590   0.00027710   \n",
            "4        429.10000000   0.00134500  ...   0.00136100   0.00136100   \n",
            "...               ...          ...  ...          ...          ...   \n",
            "2297     614.00000000   0.53150000  ...   0.52930000   0.59150000   \n",
            "2298       0.37200000  18.82000000  ...  21.21000000  21.80000000   \n",
            "2299    4070.00000000   0.02384000  ...   0.02169000   0.02500000   \n",
            "2300  163213.00000000   0.00500000  ...   0.00490000   0.00512000   \n",
            "2301      11.40000000   1.01500000  ...   1.01600000   1.03100000   \n",
            "\n",
            "         lowPrice              volume        quoteVolume       openTime  \\\n",
            "0      0.06042000       9351.13340000       566.83586973  1695708053349   \n",
            "1      0.00241600      37629.13500000        91.73891025  1695708056388   \n",
            "2      0.00803300      21111.05800000       170.93924592  1695708061338   \n",
            "3      0.00027140       7508.98000000         2.05916062  1695708061116   \n",
            "4      0.00132200       1719.10000000         2.31745650  1695708059784   \n",
            "...           ...                 ...                ...            ...   \n",
            "2297   0.50600000   13059635.00000000   7175490.75400000  1695708060260   \n",
            "2298  17.55000000     583781.73200000  11407841.24643000  1695708062388   \n",
            "2299   0.01933000  524609502.00000000  11520106.72204000  1695708063425   \n",
            "2300   0.00470000  217806223.00000000   1067157.91278000  1695707977235   \n",
            "2301   1.00400000       2833.70000000      2880.48760000  1695703630493   \n",
            "\n",
            "          closeTime    firstId     lastId  count  \n",
            "0     1695794453349  423286566  423304079  17514  \n",
            "1     1695794456388   93619129   93627333   8205  \n",
            "2     1695794461338  227341473  227361643  20171  \n",
            "3     1695794461116   45533620   45536784   3165  \n",
            "4     1695794459784    5402438    5402490     53  \n",
            "...             ...        ...        ...    ...  \n",
            "2297  1695794460260     172942     203336  30395  \n",
            "2298  1695794462388     496453     577750  81298  \n",
            "2299  1695794463425     629254     686788  57535  \n",
            "2300  1695794377235      33006      37469   4464  \n",
            "2301  1695790030493         40        129     90  \n",
            "\n",
            "[2302 rows x 21 columns]\n"
          ]
        }
      ]
    },
    {
      "cell_type": "markdown",
      "source": [],
      "metadata": {
        "id": "27hjP9QGBRZh"
      }
    }
  ]
}